{
  "nbformat": 4,
  "nbformat_minor": 0,
  "metadata": {
    "colab": {
      "provenance": []
    },
    "kernelspec": {
      "name": "python3",
      "display_name": "Python 3"
    },
    "language_info": {
      "name": "python"
    }
  },
  "cells": [
    {
      "cell_type": "code",
      "source": [
        "!git clone https://github.com/ltkien0105/PaddleOCR_VN.git /content/drive/MyDrive/PaddleOCR_VN"
      ],
      "metadata": {
        "id": "_dtO4qGKOKSh"
      },
      "execution_count": null,
      "outputs": []
    },
    {
      "cell_type": "code",
      "source": [
        "%cd /content/drive/MyDrive/PaddleOCR_VN"
      ],
      "metadata": {
        "id": "NxS1KWXYOdrH",
        "colab": {
          "base_uri": "https://localhost:8080/"
        },
        "outputId": "eba93ed7-47a2-4256-b946-c46153f9821c"
      },
      "execution_count": 59,
      "outputs": [
        {
          "output_type": "stream",
          "name": "stdout",
          "text": [
            "/content/drive/MyDrive/PaddleOCR\n"
          ]
        }
      ]
    },
    {
      "cell_type": "markdown",
      "source": [
        "**Download resources**"
      ],
      "metadata": {
        "id": "tKAH3iPmyoWA"
      }
    },
    {
      "cell_type": "code",
      "source": [
        "!python3 resources.py"
      ],
      "metadata": {
        "id": "0eqStTTBoZte"
      },
      "execution_count": null,
      "outputs": []
    },
    {
      "cell_type": "markdown",
      "source": [
        "**Extract zip file downloaded (pretrain model and train data)**"
      ],
      "metadata": {
        "id": "d_HAAE-x1J6I"
      }
    },
    {
      "cell_type": "code",
      "source": [
        "#Detection pretrain model\n",
        "!unzip pretrain_models/det_r50_vd_sast_icdar15_v2.0_train.zip -d pretrain_models && rm pretrain_models/det_r50_vd_sast_icdar15_v2.0_train.zip\n",
        "\n",
        "#Recognition pretrain model\n",
        "!unzip pretrain_models/rec_r50_vd_srn_train.zip -d pretrain_models && rm pretrain_models/rec_r50_vd_srn_train.zip\n",
        "\n",
        "#Train data\n",
        "!unzip train_data/vietnamese.zip -d train_data && rm train_data/vietnamese.zip\n",
        "\n",
        "#Best accuracy model\n",
        "!unzip output/best_accuracy.zip -d output && rm output/best_accuracy.zip"
      ],
      "metadata": {
        "id": "e1LIAvPHPtO3"
      },
      "execution_count": null,
      "outputs": []
    }
  ]
}