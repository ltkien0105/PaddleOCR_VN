{
  "cells": [
    {
      "cell_type": "code",
      "execution_count": null,
      "metadata": {
        "id": "_dtO4qGKOKSh"
      },
      "outputs": [],
      "source": [
        "!git clone https://github.com/ltkien0105/PaddleOCR_VN.git /content/drive/MyDrive/PaddleOCR_VN"
      ]
    },
    {
      "cell_type": "code",
      "execution_count": 59,
      "metadata": {
        "colab": {
          "base_uri": "https://localhost:8080/"
        },
        "id": "NxS1KWXYOdrH",
        "outputId": "eba93ed7-47a2-4256-b946-c46153f9821c"
      },
      "outputs": [
        {
          "name": "stdout",
          "output_type": "stream",
          "text": [
            "/content/drive/MyDrive/PaddleOCR\n"
          ]
        }
      ],
      "source": [
        "%cd /content/drive/MyDrive/PaddleOCR_VN"
      ]
    },
    {
      "cell_type": "code",
      "execution_count": null,
      "metadata": {},
      "outputs": [],
      "source": [
        "!pip install paddlepaddle-gpu\n",
        "!pip install -r requirements.txt\n",
        "!pip install -e ."
      ]
    },
    {
      "cell_type": "markdown",
      "metadata": {
        "id": "tKAH3iPmyoWA"
      },
      "source": [
        "**Download resources**"
      ]
    },
    {
      "cell_type": "code",
      "execution_count": null,
      "metadata": {
        "id": "0eqStTTBoZte"
      },
      "outputs": [],
      "source": [
        "!python3 resources.py"
      ]
    },
    {
      "cell_type": "markdown",
      "metadata": {
        "id": "d_HAAE-x1J6I"
      },
      "source": [
        "**Extract zip file downloaded (pretrain model and train data)**"
      ]
    },
    {
      "cell_type": "code",
      "execution_count": null,
      "metadata": {
        "id": "e1LIAvPHPtO3"
      },
      "outputs": [],
      "source": [
        "#Detection pretrain model\n",
        "!unzip pretrain_models/det_r50_vd_sast_icdar15_v2.0_train.zip -d pretrain_models && rm pretrain_models/det_r50_vd_sast_icdar15_v2.0_train.zip\n",
        "\n",
        "#Recognition pretrain model\n",
        "!unzip pretrain_models/rec_r50_vd_srn_train.zip -d pretrain_models && rm pretrain_models/rec_r50_vd_srn_train.zip\n",
        "\n",
        "#Train data\n",
        "!unzip train_data/vietnamese.zip -d train_data && rm train_data/vietnamese.zip\n",
        "\n",
        "#Best accuracy model\n",
        "!unzip output/SRN/best_accuracy.zip -d output/SRN && rm output/SRN/best_accuracy.zip"
      ]
    },
    {
      "cell_type": "code",
      "execution_count": null,
      "metadata": {},
      "outputs": [],
      "source": [
        "!python3 tools/train.py -c ./configs/rec/SRN.yml -o Global.checkpoints=./output/SRN/best_accuracy"
      ]
    }
  ],
  "metadata": {
    "colab": {
      "provenance": []
    },
    "kernelspec": {
      "display_name": "Python 3",
      "name": "python3"
    },
    "language_info": {
      "name": "python"
    }
  },
  "nbformat": 4,
  "nbformat_minor": 0
}
